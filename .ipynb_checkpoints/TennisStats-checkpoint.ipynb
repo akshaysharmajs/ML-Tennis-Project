{
 "cells": [
  {
   "cell_type": "code",
   "execution_count": 34,
   "id": "27b87c9c",
   "metadata": {},
   "outputs": [
    {
     "name": "stdout",
     "output_type": "stream",
     "text": [
      "Cuda Device Available\n",
      "Name of the Cuda Device:  NVIDIA GeForce RTX 3060 Laptop GPU\n",
      "GPU Computational Capablity:  (8, 6)\n"
     ]
    },
    {
     "data": {
      "text/plain": [
       "array(['Hard', 'Clay', 'Grass', 'Carpet'], dtype=object)"
      ]
     },
     "execution_count": 34,
     "metadata": {},
     "output_type": "execute_result"
    }
   ],
   "source": [
    "import torch \n",
    "from torch import nn\n",
    "import numpy as np\n",
    "import math\n",
    "import pandas as pd\n",
    "import matplotlib.pyplot as plt\n",
    "from sklearn.model_selection import train_test_split\n",
    "from scipy.stats import skew\n",
    "from scipy.stats import kurtosis\n",
    "from prettytable import PrettyTable\n",
    "import os\n",
    "\n",
    "pd.set_option('display.max_rows', 500)\n",
    "pd.set_option('display.max_columns', 500)\n",
    "pd.set_option('display.width', 1000)\n",
    "\n",
    "\n",
    "if torch.cuda.is_available():\n",
    "    device = torch.device(\"cuda:0\")\n",
    "    print(\"Cuda Device Available\")\n",
    "    print(\"Name of the Cuda Device: \", torch.cuda.get_device_name())\n",
    "    print(\"GPU Computational Capablity: \", torch.cuda.get_device_capability())\n",
    "\n",
    "else:\n",
    "    device = torch.device(\"cpu\")\n",
    "    \n",
    "def changeCourtToValue(court):\n",
    "    if court == 'Hard':\n",
    "        return 1\n",
    "    else if court == 'Clay':\n",
    "        return 2\n",
    "    else if court == 'Grass':\n",
    "        return 3\n",
    "    else if court == 'Carpet':\n",
    "        return 4\n",
    "    \n",
    "    \n",
    "def BuildDataset():\n",
    "    df = pd.read_csv(\"data/atp_matches_2015.csv\")\n",
    "    for i in range(2016, 2023):\n",
    "        newDf = pd.read_csv(\"data/atp_matches_\" + str(i) + \".csv\")\n",
    "        df = pd.concat([df, newDf], join=\"inner\", ignore_index = True)\n",
    "    \n",
    "    df = df[['surface', 'winner_hand', 'winner_ht', 'winner_age', 'winner_rank', 'winner_rank_points', 'loser_hand', 'loser_ht', 'loser_age', 'loser_rank', 'loser_rank_points']]\n",
    "    \n",
    "    \n",
    "    avgSwitches = ['winner_ht', 'winner_age', 'loser_ht', 'loser_age']\n",
    "    for i in avgSwitches:\n",
    "        mean = df[i].mean()\n",
    "        df[i] = df[i].fillna(mean)\n",
    "        \n",
    "    maxSwitches = ['winner_rank', 'loser_rank']\n",
    "    for i in maxSwitches:\n",
    "        Max = df[i].max()\n",
    "        df[i] = df[i].fillna(Max)\n",
    "    \n",
    "    minSwitches = ['winner_rank_points', 'loser_rank_points']\n",
    "    for i in minSwitches:\n",
    "        df[i] = df[i].fillna(1)\n",
    "    \n",
    "    \n",
    "    return df\n",
    "\n",
    "def main():\n",
    "    df = BuildDataset()\n",
    "    print(df.tail())\n",
    "    \n",
    "#main()\n",
    "df = BuildDataset()\n",
    "df['surface'].unique()\n"
   ]
  },
  {
   "cell_type": "code",
   "execution_count": null,
   "id": "2ccd571f",
   "metadata": {},
   "outputs": [],
   "source": []
  },
  {
   "cell_type": "code",
   "execution_count": null,
   "id": "0e7645aa",
   "metadata": {},
   "outputs": [],
   "source": []
  }
 ],
 "metadata": {
  "kernelspec": {
   "display_name": "Python 3 (ipykernel)",
   "language": "python",
   "name": "python3"
  },
  "language_info": {
   "codemirror_mode": {
    "name": "ipython",
    "version": 3
   },
   "file_extension": ".py",
   "mimetype": "text/x-python",
   "name": "python",
   "nbconvert_exporter": "python",
   "pygments_lexer": "ipython3",
   "version": "3.8.12"
  }
 },
 "nbformat": 4,
 "nbformat_minor": 5
}
